{
 "cells": [
  {
   "cell_type": "code",
   "execution_count": 159,
   "id": "7204627c",
   "metadata": {},
   "outputs": [],
   "source": [
    "import numpy as np\n",
    "import pandas as pd\n",
    "import matplotlib.pyplot as plt\n",
    "import datetime\n",
    "import requests\n",
    "from bs4 import BeautifulSoup\n",
    "import QuantLib as ql"
   ]
  },
  {
   "cell_type": "code",
   "execution_count": 160,
   "id": "00477d6f",
   "metadata": {},
   "outputs": [],
   "source": [
    "def GET_DATE():\n",
    "    req = requests.get(\"https://www.marketwatch.com/investing/bond/tmubmusd10y?countrycode=bx\")\n",
    "    html = req.text\n",
    "    soup = BeautifulSoup(html, 'html.parser')\n",
    "    data = soup.find(\"span\", class_=\"timestamp__time\")\n",
    "    date = data.text\n",
    "    date = date[14:-16]\n",
    "    date = datetime.datetime.strptime(date, \"%b %d, %Y\").date()\n",
    "    return date"
   ]
  },
  {
   "cell_type": "code",
   "execution_count": 161,
   "id": "14d54d83",
   "metadata": {},
   "outputs": [],
   "source": [
    "def GET_QUOTE(reference_date):\n",
    "    tenors = ['01M', '03M', '06M', '01Y', '02Y', '03Y', '05Y', '07Y', '10Y', '30Y']\n",
    "    \n",
    "    maturities = []\n",
    "    days = []\n",
    "    prices = []\n",
    "    coupons = []\n",
    "    \n",
    "    for i, tenors in enumerate(tenors):\n",
    "        req = requests.get(\"https://www.marketwatch.com/investing/bond/tmubmusd\" + tenors + \"?countryCode=BX\")\n",
    "    \n",
    "        html = req.text\n",
    "        soup = BeautifulSoup(html, 'html.parser')\n",
    "        \n",
    "        data = soup.select('body > div > div > div > div > div > ul > li > span')\n",
    "        \n",
    "        if i <= 3:\n",
    "            data_src = soup.find(\"bg-quote\", \"value\")\n",
    "            price = data_src.text\n",
    "            price = float(price)\n",
    "        else:  \n",
    "            price = data[6].text\n",
    "            price = price.split()\n",
    "            price1 = float(price[0])\n",
    "            price = price[1].split('/')\n",
    "            price2 = float(price[0])\n",
    "            price3 = float(price[1])\n",
    "            price = price1 + (price2 / price3)\n",
    "        \n",
    "        coupon = data[12].text\n",
    "        if coupon != '':\n",
    "            coupon = float(coupon[:-1])\n",
    "        else:\n",
    "            coupon = 0.0\n",
    "            \n",
    "        maturity = data[14].text\n",
    "        maturity = datetime.datetime.strptime(maturity, '%b %d, %Y').date()\n",
    "        \n",
    "        days.append((maturity - reference_date).days)\n",
    "        prices.append(price)\n",
    "        coupons.append(coupon)\n",
    "        maturities.append(maturity)\n",
    "    \n",
    "    df = pd.DataFrame([maturities, days, prices, coupons]).transpose()\n",
    "    headers = ['maturity', 'days', 'price', 'coupon']\n",
    "    df.columns = headers\n",
    "    df.set_index('maturity', inplace=True)\n",
    "    \n",
    "    return df"
   ]
  },
  {
   "cell_type": "code",
   "execution_count": 162,
   "id": "b00c4359",
   "metadata": {},
   "outputs": [
    {
     "data": {
      "text/html": [
       "<div>\n",
       "<style scoped>\n",
       "    .dataframe tbody tr th:only-of-type {\n",
       "        vertical-align: middle;\n",
       "    }\n",
       "\n",
       "    .dataframe tbody tr th {\n",
       "        vertical-align: top;\n",
       "    }\n",
       "\n",
       "    .dataframe thead th {\n",
       "        text-align: right;\n",
       "    }\n",
       "</style>\n",
       "<table border=\"1\" class=\"dataframe\">\n",
       "  <thead>\n",
       "    <tr style=\"text-align: right;\">\n",
       "      <th></th>\n",
       "      <th>days</th>\n",
       "      <th>price</th>\n",
       "      <th>coupon</th>\n",
       "    </tr>\n",
       "    <tr>\n",
       "      <th>maturity</th>\n",
       "      <th></th>\n",
       "      <th></th>\n",
       "      <th></th>\n",
       "    </tr>\n",
       "  </thead>\n",
       "  <tbody>\n",
       "    <tr>\n",
       "      <th>2021-09-14</th>\n",
       "      <td>27</td>\n",
       "      <td>0.033</td>\n",
       "      <td>0.0</td>\n",
       "    </tr>\n",
       "    <tr>\n",
       "      <th>2021-11-18</th>\n",
       "      <td>92</td>\n",
       "      <td>0.073</td>\n",
       "      <td>0.0</td>\n",
       "    </tr>\n",
       "    <tr>\n",
       "      <th>2022-02-17</th>\n",
       "      <td>183</td>\n",
       "      <td>0.052</td>\n",
       "      <td>0.0</td>\n",
       "    </tr>\n",
       "    <tr>\n",
       "      <th>2022-08-11</th>\n",
       "      <td>358</td>\n",
       "      <td>0.071</td>\n",
       "      <td>0.0</td>\n",
       "    </tr>\n",
       "    <tr>\n",
       "      <th>2023-07-31</th>\n",
       "      <td>712</td>\n",
       "      <td>99.25</td>\n",
       "      <td>0.125</td>\n",
       "    </tr>\n",
       "    <tr>\n",
       "      <th>2024-08-15</th>\n",
       "      <td>1093</td>\n",
       "      <td>99.25</td>\n",
       "      <td>0.375</td>\n",
       "    </tr>\n",
       "    <tr>\n",
       "      <th>2026-07-31</th>\n",
       "      <td>1808</td>\n",
       "      <td>99.09375</td>\n",
       "      <td>0.625</td>\n",
       "    </tr>\n",
       "    <tr>\n",
       "      <th>2028-07-31</th>\n",
       "      <td>2539</td>\n",
       "      <td>99.21875</td>\n",
       "      <td>1.0</td>\n",
       "    </tr>\n",
       "    <tr>\n",
       "      <th>2031-08-15</th>\n",
       "      <td>3649</td>\n",
       "      <td>99.25</td>\n",
       "      <td>1.25</td>\n",
       "    </tr>\n",
       "    <tr>\n",
       "      <th>2051-08-15</th>\n",
       "      <td>10954</td>\n",
       "      <td>101.1875</td>\n",
       "      <td>2.0</td>\n",
       "    </tr>\n",
       "  </tbody>\n",
       "</table>\n",
       "</div>"
      ],
      "text/plain": [
       "             days     price coupon\n",
       "maturity                          \n",
       "2021-09-14     27     0.033    0.0\n",
       "2021-11-18     92     0.073    0.0\n",
       "2022-02-17    183     0.052    0.0\n",
       "2022-08-11    358     0.071    0.0\n",
       "2023-07-31    712     99.25  0.125\n",
       "2024-08-15   1093     99.25  0.375\n",
       "2026-07-31   1808  99.09375  0.625\n",
       "2028-07-31   2539  99.21875    1.0\n",
       "2031-08-15   3649     99.25   1.25\n",
       "2051-08-15  10954  101.1875    2.0"
      ]
     },
     "execution_count": 162,
     "metadata": {},
     "output_type": "execute_result"
    }
   ],
   "source": [
    "ref_date = GET_DATE()\n",
    "quote = GET_QUOTE(ref_date)\n",
    "quote"
   ]
  },
  {
   "cell_type": "code",
   "execution_count": 163,
   "id": "4a54b9ba",
   "metadata": {},
   "outputs": [],
   "source": [
    "def TREASURY_CURVE(date, quote):\n",
    "    \n",
    "    tbill = quote[0:4]\n",
    "    tbond = quote[4:]\n",
    "    \n",
    "    eval_date = ql.Date(date.day, date.month, date.year)\n",
    "    ql.Settings.instance().evaluationDate = eval_date\n",
    "    \n",
    "    calendar = ql.UnitedStates()\n",
    "    convention = ql.ModifiedFollowing\n",
    "    day_counter = ql.ActualActual()\n",
    "    end_of_month = True\n",
    "    fixing_days = 1\n",
    "    face_amount = 100\n",
    "    coupon_frequency = ql.Period(ql.Semiannual)\n",
    "    \n",
    "    bill_helpers = [ql.DepositRateHelper(ql.QuoteHandle(ql.SimpleQuote(r/100.0)),\n",
    "                                         ql.Period(m, ql.Days),\n",
    "                                         fixing_days,\n",
    "                                         calendar,\n",
    "                                         convention,\n",
    "                                         end_of_month,\n",
    "                                         day_counter)\n",
    "                    for r, m in zip(tbill['price'], tbill['days'])]\n",
    "    \n",
    "    bond_helpers = []\n",
    "    for p, c, m in zip(tbond['price'], tbond['coupon'], tbond['days']):\n",
    "        termination_date = eval_date + ql.Period(m, ql.Days)\n",
    "        schedule = ql.Schedule(eval_date,\n",
    "                               termination_date,\n",
    "                               coupon_frequency,\n",
    "                               calendar,\n",
    "                               convention,\n",
    "                               convention,\n",
    "                               ql.DateGeneration.Backward,\n",
    "                               end_of_month)\n",
    "        bond_helper = ql.FixedRateBondHelper(ql.QuoteHandle(ql.SimpleQuote(p)),\n",
    "                                             fixing_days,\n",
    "                                             face_amount,\n",
    "                                             schedule,\n",
    "                                             [c/100.0],\n",
    "                                             day_counter,\n",
    "                                             convention)\n",
    "        bond_helpers.append(bond_helper)\n",
    "    \n",
    "    rate_helper = bill_helpers + bond_helpers\n",
    "    \n",
    "    yc_linearzero = ql.PiecewiseLinearZero(eval_date, rate_helper, day_counter)\n",
    "    \n",
    "    return yc_linearzero"
   ]
  },
  {
   "cell_type": "code",
   "execution_count": 164,
   "id": "7305d3a3",
   "metadata": {},
   "outputs": [],
   "source": [
    "def DISCOUNT_FACTOR(date, curve):\n",
    "    date = ql.Date(date.day, date.month, date.year)\n",
    "    return curve.discount(date)"
   ]
  },
  {
   "cell_type": "code",
   "execution_count": 165,
   "id": "e9b48605",
   "metadata": {},
   "outputs": [],
   "source": [
    "def ZERO_RATE(date, curve):\n",
    "    date = ql.Date(date.day, date.month, date.year)\n",
    "    day_counter = ql.ActualActual()\n",
    "    compounding = ql.Compounded\n",
    "    freq = ql.Continuous\n",
    "    zero_rate = curve.zeroRate(date, day_counter, compounding, freq).rate()\n",
    "    return zero_rate"
   ]
  },
  {
   "cell_type": "code",
   "execution_count": 166,
   "id": "d2e438a9",
   "metadata": {
    "scrolled": false
   },
   "outputs": [
    {
     "name": "stdout",
     "output_type": "stream",
     "text": [
      "            discount factor  zero rate\n",
      "maturity                              \n",
      "2021-09-14         0.999976   0.000330\n",
      "2021-11-18         0.999865   0.000537\n",
      "2022-02-17         0.999671   0.000656\n",
      "2022-08-11         0.999426   0.000585\n",
      "2023-07-31         0.990425   0.004938\n",
      "2024-08-15         0.981682   0.006187\n",
      "2026-07-31         0.960735   0.008107\n",
      "2028-07-31         0.925068   0.011235\n",
      "2031-08-15         0.874136   0.013508\n",
      "2051-08-15         0.540053   0.020648\n"
     ]
    },
    {
     "data": {
      "text/plain": [
       "Text(0, 0.5, 'Discount Factor')"
      ]
     },
     "execution_count": 166,
     "metadata": {},
     "output_type": "execute_result"
    },
    {
     "data": {
      "image/png": "[encoded data removed]",
      "text/plain": [
       "<Figure size 1152x576 with 1 Axes>"
      ]
     },
     "metadata": {
      "needs_background": "light"
     },
     "output_type": "display_data"
    },
    {
     "data": {
      "image/png": "[encoded data removed]",
      "text/plain": [
       "<Figure size 1152x576 with 1 Axes>"
      ]
     },
     "metadata": {
      "needs_background": "light"
     },
     "output_type": "display_data"
    }
   ],
   "source": [
    "ref_date = GET_DATE()\n",
    "quote = GET_QUOTE(ref_date)\n",
    "curve = TREASURY_CURVE(ref_date, quote)\n",
    "\n",
    "quote['discount factor'] = np.nan\n",
    "quote['zero rate'] = np.nan\n",
    "\n",
    "for date in quote.index:\n",
    "    quote.loc[date, 'discount factor'] = DISCOUNT_FACTOR(date, curve)\n",
    "    quote.loc[date, 'zero rate'] = ZERO_RATE(date, curve)\n",
    "    \n",
    "print(quote[['discount factor', 'zero rate']])\n",
    "\n",
    "plt.figure(figsize=(16,8))\n",
    "plt.plot(quote['zero rate'], 'b.-')\n",
    "plt.title('Zero Curve', loc='center')\n",
    "plt.xlabel('Maturity')\n",
    "plt.ylabel('Zero Rate')\n",
    "\n",
    "plt.figure(figsize=(16,8))\n",
    "plt.plot(quote['discount factor'], 'r-')\n",
    "plt.title('Discount Curve', loc='center')\n",
    "plt.xlabel('Maturity')\n",
    "plt.ylabel('Discount Factor')"
   ]
  },
  {
   "cell_type": "code",
   "execution_count": null,
   "id": "66ae6bc0",
   "metadata": {},
   "outputs": [],
   "source": []
  },
  {
   "cell_type": "code",
   "execution_count": null,
   "id": "326e44f1",
   "metadata": {},
   "outputs": [],
   "source": []
  }
 ],
 "metadata": {
  "kernelspec": {
   "display_name": "Python 3",
   "language": "python",
   "name": "python3"
  },
  "language_info": {
   "codemirror_mode": {
    "name": "ipython",
    "version": 3
   },
   "file_extension": ".py",
   "mimetype": "text/x-python",
   "name": "python",
   "nbconvert_exporter": "python",
   "pygments_lexer": "ipython3",
   "version": "3.8.8"
  }
 },
 "nbformat": 4,
 "nbformat_minor": 5
}
