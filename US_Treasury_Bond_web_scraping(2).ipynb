{
 "cells": [
  {
   "cell_type": "markdown",
   "id": "824d8a1a",
   "metadata": {},
   "source": [
    "No information about Maturity for version 1 so this time we will scrap Maturity datas"
   ]
  },
  {
   "cell_type": "markdown",
   "id": "5c5e4cb3",
   "metadata": {},
   "source": [
    "Since Selenium is too slow, if it's a situation there's no necessity of using Dynamic Crawling, using 'Requests' and 'BeautifulSoup' is better"
   ]
  },
  {
   "cell_type": "code",
   "execution_count": 109,
   "id": "2be81d87",
   "metadata": {},
   "outputs": [],
   "source": [
    "import datetime\n",
    "import pandas as pd\n",
    "import requests\n",
    "from bs4 import BeautifulSoup"
   ]
  },
  {
   "cell_type": "code",
   "execution_count": 110,
   "id": "fbc82e12",
   "metadata": {},
   "outputs": [],
   "source": [
    "tenors = ['01M', '03M', '06M', '01Y', '02Y', '03Y', '05Y', '07Y', '10Y', '30Y']"
   ]
  },
  {
   "cell_type": "code",
   "execution_count": 111,
   "id": "a7144fc8",
   "metadata": {},
   "outputs": [],
   "source": [
    "maturities = []\n",
    "yields = []\n",
    "coupons = []"
   ]
  },
  {
   "cell_type": "code",
   "execution_count": 112,
   "id": "f0e3f40a",
   "metadata": {},
   "outputs": [],
   "source": [
    "for tenor in tenors:\n",
    "    req = requests.get(\"https://www.marketwatch.com/investing/bond/tmubmusd\" + tenor + \"?countryCode=BX\")\n",
    "    \n",
    "    html = req.text\n",
    "    soup = BeautifulSoup(html, 'html.parser')\n",
    "    \n",
    "    data1 = soup.select('body > div > div > div > div > div > h2 > bg-quote')\n",
    "    data2 = soup.select('body > div > div > div > div > div > ul > li > span')\n",
    "\n",
    "    ytm = data1[0].text\n",
    "    coupon = data2[12].text\n",
    "    maturity = data2[14].text\n",
    "    \n",
    "    ytm = float(ytm)\n",
    "    if coupon != '':\n",
    "        coupon = float(coupon[:-1])\n",
    "    else:\n",
    "        coupon = 0.0\n",
    "    maturity = datetime.datetime.strptime(maturity, '%b %d, %Y').date()\n",
    "    \n",
    "    yields.append(ytm)\n",
    "    coupons.append(coupon)\n",
    "    maturities.append(maturity)"
   ]
  },
  {
   "cell_type": "code",
   "execution_count": 113,
   "id": "c84a6a4d",
   "metadata": {},
   "outputs": [],
   "source": [
    "df = pd.DataFrame([maturities, yields, coupons]).transpose()\n",
    "headers = ['Maturity', 'Yield', 'Coupon']\n",
    "df.columns = headers\n",
    "df.set_index('Maturity', inplace=True)"
   ]
  },
  {
   "cell_type": "code",
   "execution_count": 114,
   "id": "fc069a29",
   "metadata": {},
   "outputs": [
    {
     "name": "stdout",
     "output_type": "stream",
     "text": [
      "            Yield Coupon\n",
      "Maturity                \n",
      "2021-09-14  0.033    0.0\n",
      "2021-11-18  0.074    0.0\n",
      "2022-02-17  0.053    0.0\n",
      "2022-08-11  0.074    0.0\n",
      "2023-07-31  0.218  0.125\n",
      "2024-08-15  0.433  0.375\n",
      "2026-07-31  0.773  0.625\n",
      "2028-07-31  1.051    1.0\n",
      "2031-08-15  1.274   1.25\n",
      "2051-08-15  1.935    2.0\n"
     ]
    }
   ],
   "source": [
    "print(df)"
   ]
  },
  {
   "cell_type": "code",
   "execution_count": null,
   "id": "d586844f",
   "metadata": {},
   "outputs": [],
   "source": []
  }
 ],
 "metadata": {
  "kernelspec": {
   "display_name": "Python 3",
   "language": "python",
   "name": "python3"
  },
  "language_info": {
   "codemirror_mode": {
    "name": "ipython",
    "version": 3
   },
   "file_extension": ".py",
   "mimetype": "text/x-python",
   "name": "python",
   "nbconvert_exporter": "python",
   "pygments_lexer": "ipython3",
   "version": "3.8.8"
  }
 },
 "nbformat": 4,
 "nbformat_minor": 5
}
