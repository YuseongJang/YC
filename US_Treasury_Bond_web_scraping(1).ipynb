{
 "cells": [
  {
   "cell_type": "code",
   "execution_count": 2,
   "id": "8ecf8cd2",
   "metadata": {},
   "outputs": [],
   "source": [
    "import pandas as pd\n",
    "from selenium import webdriver\n",
    "options = webdriver.ChromeOptions()\n",
    "options.add_argument('headless')"
   ]
  },
  {
   "cell_type": "code",
   "execution_count": 3,
   "id": "cc655079",
   "metadata": {},
   "outputs": [],
   "source": [
    "driver = webdriver.Chrome('C:/chromedriver', options = options)\n",
    "driver.get(\"https://www.wsj.com/market-data/bonds\")"
   ]
  },
  {
   "cell_type": "code",
   "execution_count": 4,
   "id": "481539c1",
   "metadata": {},
   "outputs": [],
   "source": [
    "path = '//*[@id=\"root\"]/div/div/div/div[2]/div[3]/div/div[3]/div[1]/div/table/tbody'\n",
    "table = driver.find_element_by_xpath(path)"
   ]
  },
  {
   "cell_type": "code",
   "execution_count": 6,
   "id": "e6475aae",
   "metadata": {},
   "outputs": [
    {
     "name": "stdout",
     "output_type": "stream",
     "text": [
      "30-Year Bond 2 0/32 1.925 -0.002\n",
      "10-Year Note 1.25 0/32 1.268 0.003\n",
      "7-Year Note 1 0/32 1.044 -0.002\n",
      "5-Year Note 0.625 0/32 0.767 -0.002\n",
      "3-Year Note 0.375 0/32 0.428 0.000\n",
      "2-Year Note 0.125 0/32 0.213 0.004\n",
      "1-Year Bill 0 0/32 0.072 0.007\n",
      "6-Month Bill 0 0/32 0.055 0.004\n",
      "3-Month Bill 0 0/32 0.072 0.009\n",
      "1-Month Bill 0 0/32 0.033 -0.003\n"
     ]
    }
   ],
   "source": [
    "print(table.text) #string"
   ]
  },
  {
   "cell_type": "code",
   "execution_count": 10,
   "id": "449c9225",
   "metadata": {},
   "outputs": [],
   "source": [
    "rows = table.text.split('\\n')\n",
    "element = []\n",
    "for r in rows:\n",
    "    element.append([i for i in r.split(' ')])\n",
    "df = pd.DataFrame(element)\n",
    "headers = ['Maturity', 'Type', 'Coupon', 'Pricing Chg', 'Yield', 'Yield Chg']\n",
    "df.columns = headers\n",
    "df.iloc[:] = df.iloc[::-1].values"
   ]
  },
  {
   "cell_type": "code",
   "execution_count": 11,
   "id": "697d1cc4",
   "metadata": {},
   "outputs": [
    {
     "name": "stdout",
     "output_type": "stream",
     "text": [
      "  Maturity  Type Coupon Pricing Chg  Yield Yield Chg\n",
      "0  1-Month  Bill      0        0/32  0.033    -0.003\n",
      "1  3-Month  Bill      0        0/32  0.072     0.009\n",
      "2  6-Month  Bill      0        0/32  0.055     0.004\n",
      "3   1-Year  Bill      0        0/32  0.072     0.007\n",
      "4   2-Year  Note  0.125        0/32  0.213     0.004\n",
      "5   3-Year  Note  0.375        0/32  0.428     0.000\n",
      "6   5-Year  Note  0.625        0/32  0.767    -0.002\n",
      "7   7-Year  Note      1        0/32  1.042    -0.005\n",
      "8  10-Year  Note   1.25        0/32  1.268     0.003\n",
      "9  30-Year  Bond      2        0/32  1.927    -0.000\n"
     ]
    }
   ],
   "source": [
    "print(df)"
   ]
  },
  {
   "cell_type": "code",
   "execution_count": null,
   "id": "60af790e",
   "metadata": {},
   "outputs": [],
   "source": []
  }
 ],
 "metadata": {
  "interpreter": {
   "hash": "95ec9ec1504d83f612128e0fb229072f90bbb4cb09d9d5d93b5dd26e0ca2cfd1"
  },
  "kernelspec": {
   "display_name": "Python 3",
   "language": "python",
   "name": "python3"
  },
  "language_info": {
   "codemirror_mode": {
    "name": "ipython",
    "version": 3
   },
   "file_extension": ".py",
   "mimetype": "text/x-python",
   "name": "python",
   "nbconvert_exporter": "python",
   "pygments_lexer": "ipython3",
   "version": "3.8.8"
  }
 },
 "nbformat": 4,
 "nbformat_minor": 5
}
